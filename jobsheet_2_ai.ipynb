{
  "nbformat": 4,
  "nbformat_minor": 0,
  "metadata": {
    "colab": {
      "provenance": [],
      "authorship_tag": "ABX9TyMb2x1Q+H7SkjTscUPRaLww",
      "include_colab_link": true
    },
    "kernelspec": {
      "name": "python3",
      "display_name": "Python 3"
    },
    "language_info": {
      "name": "python"
    }
  },
  "cells": [
    {
      "cell_type": "markdown",
      "metadata": {
        "id": "view-in-github",
        "colab_type": "text"
      },
      "source": [
        "<a href=\"https://colab.research.google.com/github/va11h411a/Jobsheet-AI-course/blob/main/jobsheet_2_ai.ipynb\" target=\"_parent\"><img src=\"https://colab.research.google.com/assets/colab-badge.svg\" alt=\"Open In Colab\"/></a>"
      ]
    },
    {
      "cell_type": "code",
      "source": [
        "import numpy as np\n",
        "\n",
        "A = np.array([[80, 30, 25],\n",
        "[50, 20, 10]])\n",
        "B = np.array([[30, 60, 15],\n",
        "[10, 30, 30]])\n",
        "\n",
        "hasil = A + B\n",
        "print (hasil)"
      ],
      "metadata": {
        "colab": {
          "base_uri": "https://localhost:8080/"
        },
        "id": "QVvVkneJAJ7_",
        "outputId": "0afa9633-a786-4c7a-df23-720adca0624c"
      },
      "execution_count": null,
      "outputs": [
        {
          "output_type": "stream",
          "name": "stdout",
          "text": [
            "[[110  90  40]\n",
            " [ 60  50  40]]\n"
          ]
        }
      ]
    },
    {
      "cell_type": "code",
      "source": [
        "import numpy as np\n",
        "A = np.array([10, 20, 15])\n",
        "B = np.array([16, 67, 35])\n",
        "\n",
        "hasil = np.cross(A, B)\n",
        "print (hasil)"
      ],
      "metadata": {
        "colab": {
          "base_uri": "https://localhost:8080/"
        },
        "id": "EJcHuN8iA0mS",
        "outputId": "023a2cc5-3ef7-4a95-ea6d-537ac2194ad6"
      },
      "execution_count": null,
      "outputs": [
        {
          "output_type": "stream",
          "name": "stdout",
          "text": [
            "[-305 -110  350]\n"
          ]
        }
      ]
    },
    {
      "cell_type": "code",
      "source": [
        "import numpy as np\n",
        "a = np.array ([[3,1],[2,0]])\n",
        "b = np.array ([[2,1],[1,-1]])\n",
        "c = np.array ([[-1, 1, 2],[2,0,-1]])\n",
        "\n",
        "hasil = np.dot(b,c)\n",
        "print (hasil)"
      ],
      "metadata": {
        "colab": {
          "base_uri": "https://localhost:8080/"
        },
        "id": "RawWM6JnFO7R",
        "outputId": "9f68da72-cf51-4026-8f63-ae183fa47ace"
      },
      "execution_count": null,
      "outputs": [
        {
          "output_type": "stream",
          "name": "stdout",
          "text": [
            "[[ 0  2  3]\n",
            " [-3  1  3]]\n"
          ]
        }
      ]
    },
    {
      "cell_type": "code",
      "source": [
        "import math\n",
        "\n",
        "a = math.factorial(8)\n",
        "b = math.factorial(5)\n",
        "\n",
        "print (a/b)"
      ],
      "metadata": {
        "colab": {
          "base_uri": "https://localhost:8080/"
        },
        "id": "qVDARqUHNh-r",
        "outputId": "a5b7ba83-384d-4e1c-bf77-bbaafd58c0c5"
      },
      "execution_count": null,
      "outputs": [
        {
          "output_type": "stream",
          "name": "stdout",
          "text": [
            "336.0\n"
          ]
        }
      ]
    },
    {
      "cell_type": "code",
      "source": [
        "import numpy as np\n",
        "\n",
        "a = np.array ([5, 3, 7])\n",
        "b = np.array ([12, -3, 1])\n",
        "\n",
        "print (np.cross(a,b))"
      ],
      "metadata": {
        "colab": {
          "base_uri": "https://localhost:8080/"
        },
        "id": "b94g_9wbPKIw",
        "outputId": "0a27f146-de48-4518-f0e4-a3942516ec73"
      },
      "execution_count": null,
      "outputs": [
        {
          "output_type": "stream",
          "name": "stdout",
          "text": [
            "[ 24  79 -51]\n"
          ]
        }
      ]
    },
    {
      "cell_type": "code",
      "source": [
        "print ('hello world')"
      ],
      "metadata": {
        "id": "VfxqxxUlSzNh",
        "outputId": "52c63bb8-459a-4d83-a68a-cb188603f3ec",
        "colab": {
          "base_uri": "https://localhost:8080/"
        }
      },
      "execution_count": 2,
      "outputs": [
        {
          "output_type": "stream",
          "name": "stdout",
          "text": [
            "hello world\n"
          ]
        }
      ]
    }
  ]
}